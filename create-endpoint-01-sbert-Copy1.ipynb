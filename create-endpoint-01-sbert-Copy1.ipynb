{
 "cells": [
  {
   "cell_type": "markdown",
   "id": "142a9f8d-fd69-46b9-b4ef-0091ccd8c4f6",
   "metadata": {
    "tags": []
   },
   "source": [
    "## SBERT endpoint (This notebook is for a reference. We don't need to create it again.)\n",
    "We are using the approach suggested in [Creating document embeddings with Hugging Face's Transformers & Amazon SageMaker](https://www.philschmid.de/custom-inference-huggingface-sagemaker)."
   ]
  },
  {
   "cell_type": "code",
   "execution_count": 1,
   "id": "408f7042-3b33-45a6-8ee3-1c31fff087b0",
   "metadata": {
    "tags": []
   },
   "outputs": [
    {
     "name": "stdout",
     "output_type": "stream",
     "text": [
      "env: TOKENIZERS_PARALLELISM=false\n"
     ]
    }
   ],
   "source": [
    "%env TOKENIZERS_PARALLELISM=false"
   ]
  },
  {
   "cell_type": "code",
   "execution_count": null,
   "id": "c2945922-7de9-4213-8293-1f901d544f13",
   "metadata": {
    "tags": []
   },
   "outputs": [],
   "source": [
    "!pip install transformers sentence_transformers"
   ]
  },
  {
   "cell_type": "code",
   "execution_count": null,
   "id": "7ed69a8a-3002-4e30-b7c7-0cfc0c124166",
   "metadata": {
    "tags": []
   },
   "outputs": [],
   "source": [
    "!pip install -U sagemaker"
   ]
  },
  {
   "cell_type": "code",
   "execution_count": 5,
   "id": "8956d823-7764-4c1d-8a9c-f33d1df799f2",
   "metadata": {
    "tags": []
   },
   "outputs": [],
   "source": [
    "!git config --global user.email \"ram.senth@berkeley.edu\"\n",
    "!git config --global user.name \"Ram S\""
   ]
  },
  {
   "cell_type": "code",
   "execution_count": 46,
   "id": "2f253c52-8daf-4a2f-9d0e-348ebc656a02",
   "metadata": {
    "tags": []
   },
   "outputs": [
    {
     "name": "stdout",
     "output_type": "stream",
     "text": [
      "transformers.__version__: 4.35.2\n",
      "sagemaker.config INFO - Not applying SDK defaults from location: /etc/xdg/sagemaker/config.yaml\n",
      "sagemaker.config INFO - Not applying SDK defaults from location: /home/ec2-user/.config/sagemaker/config.yaml\n",
      "sagemaker.config INFO - Not applying SDK defaults from location: /etc/xdg/sagemaker/config.yaml\n",
      "sagemaker.config INFO - Not applying SDK defaults from location: /home/ec2-user/.config/sagemaker/config.yaml\n"
     ]
    }
   ],
   "source": [
    "# Choose transformer model for embeddings\n",
    "import transformers\n",
    "from transformers import AutoTokenizer, AutoModel\n",
    "import os\n",
    "import sagemaker\n",
    "import time\n",
    "from sentence_transformers import SentenceTransformer\n",
    "\n",
    "print(f'transformers.__version__: {transformers.__version__}')\n",
    "\n",
    "#Defining default bucket for SageMaker pretrained model hosting\n",
    "sagemaker_session = sagemaker.Session()\n",
    "role = sagemaker.get_execution_role()\n",
    "\n",
    "# S3_ARTIFACT = 's3://sagemaker-us-west-2-571667364805/sentence_transformer/model.tar.gz'\n",
    "S3_ARTIFACT = 's3://project-langbot-models/cc-model-inference.tar.gz'\n",
    "MODEL_NAME = 'multi-qa-MiniLM-L6-cos-v1'\n",
    "ENDPOINT_NAME = 'sm-cc-aws'"
   ]
  },
  {
   "cell_type": "markdown",
   "id": "9dedbeb5-07a9-4ea0-9b9a-56da96ed686e",
   "metadata": {},
   "source": [
    "## Download Model Files"
   ]
  },
  {
   "cell_type": "code",
   "execution_count": null,
   "id": "47392e70-515d-4b01-ad11-5e8481e65bd6",
   "metadata": {
    "tags": []
   },
   "outputs": [],
   "source": [
    "# Install git-lfs. This is required to download model files from HF\n",
    "!sudo yum update -y\n",
    "!sudo yum install amazon-linux-extras\n",
    "!sudo amazon-linux-extras install epel -y\n",
    "!sudo yum update -y\n",
    "!sudo yum install git-lfs -y"
   ]
  },
  {
   "cell_type": "code",
   "execution_count": 13,
   "id": "7cfee44d-afd1-44c6-b619-bb10707f5884",
   "metadata": {
    "tags": []
   },
   "outputs": [
    {
     "name": "stdout",
     "output_type": "stream",
     "text": [
      "Cloning into 'multi-qa-MiniLM-L6-cos-v1'...\n",
      "remote: Enumerating objects: 46, done.\u001b[K\n",
      "remote: Total 46 (delta 0), reused 0 (delta 0), pack-reused 46\u001b[K\n",
      "Unpacking objects: 100% (46/46), 310.04 KiB | 3.30 MiB/s, done.\n",
      "Filtering content: 100% (2/2), 173.47 MiB | 83.47 MiB/s, done.\n",
      "Updated git hooks.\n",
      "Git LFS initialized.\n"
     ]
    }
   ],
   "source": [
    "# Download model files\n",
    "!git clone https://huggingface.co/sentence-transformers/{MODEL_NAME}\n",
    "!cd {MODEL_NAME} && git lfs install && git lfs pull"
   ]
  },
  {
   "cell_type": "code",
   "execution_count": 31,
   "id": "4bc4990a-882d-41c7-9660-2e95291ca55c",
   "metadata": {
    "tags": []
   },
   "outputs": [
    {
     "data": {
      "text/plain": [
       "array([ 0.01638701,  0.04483588, -0.06652745,  0.00947834, -0.02653527],\n",
       "      dtype=float32)"
      ]
     },
     "execution_count": 31,
     "metadata": {},
     "output_type": "execute_result"
    }
   ],
   "source": [
    "# Test the downloaded model\n",
    "model = SentenceTransformer(f'{MODEL_NAME}/')\n",
    "model.encode(\"Hola como estas\")[0:5]"
   ]
  },
  {
   "cell_type": "code",
   "execution_count": 17,
   "id": "9db6db70-a9b2-4ed5-b216-fee5aecc06c4",
   "metadata": {
    "tags": []
   },
   "outputs": [
    {
     "name": "stdout",
     "output_type": "stream",
     "text": [
      "1_Pooling\t\t\t   sentence_bert_config.json\n",
      "code\t\t\t\t   special_tokens_map.json\n",
      "config.json\t\t\t   tf_model.h5\n",
      "config_sentence_transformers.json  tokenizer_config.json\n",
      "data_config.json\t\t   tokenizer.json\n",
      "modules.json\t\t\t   train_script.py\n",
      "pytorch_model.bin\t\t   vocab.txt\n",
      "README.md\n"
     ]
    }
   ],
   "source": [
    "!ls {MODEL_NAME}/"
   ]
  },
  {
   "cell_type": "markdown",
   "id": "0cba5e8a-3d66-4f25-9edc-5a25718bb5af",
   "metadata": {},
   "source": [
    "## Create Custom Inference Script"
   ]
  },
  {
   "cell_type": "code",
   "execution_count": 16,
   "id": "bc6c1750-006c-40df-8f1f-4fef3205b982",
   "metadata": {
    "tags": []
   },
   "outputs": [],
   "source": [
    "# Create the folder for script\n",
    "!mkdir {MODEL_NAME}/code"
   ]
  },
  {
   "cell_type": "code",
   "execution_count": 95,
   "id": "6659dfbc-8b00-43ea-b59d-037669366c2d",
   "metadata": {
    "tags": []
   },
   "outputs": [
    {
     "name": "stdout",
     "output_type": "stream",
     "text": [
      "Overwriting transformer/code/inference.py\n"
     ]
    }
   ],
   "source": [
    "# %%writefile transformer/code/inference.py\n",
    "# from sentence_transformers import SentenceTransformer\n",
    "# import json\n",
    "# import logging\n",
    "\n",
    "# logger = logging.getLogger(__name__)\n",
    "# logger.setLevel(logging.INFO)\n",
    "\n",
    "\n",
    "# def model_fn(model_dir):\n",
    "#     # implement custom code to load the model\n",
    "#     logger.info(f\"==== model_fn:: Loading model from model_dir={model_dir}\")\n",
    "#     model = SentenceTransformer(model_dir)\n",
    "#     logger.info(f\"==== model_fn:: Done loading model from model_dir={model_dir}\")\n",
    "#     return model\n",
    "\n",
    "# def input_fn(input_data, content_type):\n",
    "#     # decode the input data  (e.g. JSON string -> dict)\n",
    "#     logger.info(f\"==== input_fn:: encoding {input_data}\")\n",
    "#     input_data = json.loads(input_data)\n",
    "#     return input_data['query']\n",
    "\n",
    "# def predict_fn(data, model):\n",
    "#     # call your custom model with the data\n",
    "#     return model(data)\n",
    "\n"
   ]
  },
  {
   "cell_type": "code",
   "execution_count": 34,
   "id": "e37948bb-3e02-46fc-9b00-f7ff77420821",
   "metadata": {
    "tags": []
   },
   "outputs": [
    {
     "name": "stdout",
     "output_type": "stream",
     "text": [
      "Overwriting multi-qa-MiniLM-L6-cos-v1/code/inference.py\n"
     ]
    }
   ],
   "source": [
    "%%writefile multi-qa-MiniLM-L6-cos-v1/code/inference.py\n",
    "from transformers import AutoTokenizer, AutoModel\n",
    "import torch\n",
    "import torch.nn.functional as F\n",
    "import logging\n",
    "\n",
    "#This version does not need SentenceTransformer.\n",
    "logger = logging.getLogger(__name__)\n",
    "logger.setLevel(logging.INFO)\n",
    "\n",
    "# Helper: Mean Pooling - Take attention mask into account for correct averaging\n",
    "def mean_pooling(model_output, attention_mask):\n",
    "    token_embeddings = model_output[0] #First element of model_output contains all token embeddings\n",
    "    input_mask_expanded = attention_mask.unsqueeze(-1).expand(token_embeddings.size()).float()\n",
    "    return torch.sum(token_embeddings * input_mask_expanded, 1) / torch.clamp(input_mask_expanded.sum(1), min=1e-9)\n",
    "\n",
    "def model_fn(model_dir):\n",
    "  # Load model from HuggingFace Hub\n",
    "  tokenizer = AutoTokenizer.from_pretrained(model_dir)\n",
    "  model = AutoModel.from_pretrained(model_dir)\n",
    "  return model, tokenizer\n",
    "\n",
    "def predict_fn(data, model_and_tokenizer):\n",
    "    # destruct model and tokenizer\n",
    "    model, tokenizer = model_and_tokenizer\n",
    "\n",
    "    # Tokenize sentences\n",
    "    sentences = data.pop(\"inputs\", data)\n",
    "    encoded_input = tokenizer(sentences, padding=True, truncation=True, return_tensors='pt')\n",
    "\n",
    "    # Compute token embeddings\n",
    "    with torch.no_grad():\n",
    "        model_output = model(**encoded_input)\n",
    "\n",
    "    # Perform pooling\n",
    "    sentence_embeddings = mean_pooling(model_output, encoded_input['attention_mask'])\n",
    "\n",
    "    # Normalize embeddings\n",
    "    sentence_embeddings = F.normalize(sentence_embeddings, p=2, dim=1)\n",
    "\n",
    "    # return list, which will be json serializable\n",
    "    return sentence_embeddings[0].tolist()"
   ]
  },
  {
   "cell_type": "markdown",
   "id": "cb80a2f5-7dbd-48bb-b117-51cabd9d07a1",
   "metadata": {},
   "source": [
    "## Upload Model Artifact to S3"
   ]
  },
  {
   "cell_type": "code",
   "execution_count": 35,
   "id": "aab56fc6-b11b-4d5c-b097-27ced0f96f02",
   "metadata": {
    "tags": []
   },
   "outputs": [
    {
     "name": "stdout",
     "output_type": "stream",
     "text": [
      "upload: ./model.tar.gz to s3://project-langbot-models/cc-model-inference.tar.gz\n"
     ]
    }
   ],
   "source": [
    "!cd {MODEL_NAME} && tar -czf ../model.tar.gz *\n",
    "!aws s3 cp ./model.tar.gz {S3_ARTIFACT}"
   ]
  },
  {
   "cell_type": "markdown",
   "id": "844ebe3e-5355-4622-93e0-244e273ae5c3",
   "metadata": {},
   "source": [
    "## Depoly Model"
   ]
  },
  {
   "cell_type": "code",
   "execution_count": 47,
   "id": "fb76f78d-4da5-4a48-9fd9-b53fd8bd2485",
   "metadata": {
    "tags": []
   },
   "outputs": [
    {
     "name": "stdout",
     "output_type": "stream",
     "text": [
      "sagemaker.config INFO - Not applying SDK defaults from location: /etc/xdg/sagemaker/config.yaml\n",
      "sagemaker.config INFO - Not applying SDK defaults from location: /home/ec2-user/.config/sagemaker/config.yaml\n",
      "sagemaker.config INFO - Not applying SDK defaults from location: /etc/xdg/sagemaker/config.yaml\n",
      "sagemaker.config INFO - Not applying SDK defaults from location: /home/ec2-user/.config/sagemaker/config.yaml\n",
      "----!"
     ]
    }
   ],
   "source": [
    "from sagemaker.huggingface.model import HuggingFaceModel\n",
    "\n",
    "huggingface_model = HuggingFaceModel(\n",
    "    # model_data=S3_ARTIFACT,  # path to your trained SageMaker model\n",
    "    model_data=S3_ARTIFACT,\n",
    "    role=role,                                            # IAM role with permissions to create an endpoint\n",
    "    transformers_version=\"4.6.1\",                           # Transformers version used\n",
    "    pytorch_version=\"1.7.1\",                                # PyTorch version used\n",
    "    py_version='py36',                                    # Python version used\n",
    ")\n",
    "\n",
    "# deploy model to SageMaker Inference\n",
    "predictor = huggingface_model.deploy(\n",
    "    initial_instance_count=1,\n",
    "    instance_type=\"ml.m5.large\",\n",
    "    endpoint_name=ENDPOINT_NAME)\n"
   ]
  },
  {
   "cell_type": "markdown",
   "id": "a019b641-2860-46c4-8c5a-4e8065fa0b50",
   "metadata": {},
   "source": [
    "## Test Endpoint"
   ]
  },
  {
   "cell_type": "code",
   "execution_count": 39,
   "id": "1e1f6c75-6d64-4caf-ab2b-6a7920033ecd",
   "metadata": {
    "tags": []
   },
   "outputs": [
    {
     "name": "stdout",
     "output_type": "stream",
     "text": [
      "[0.01638699509203434, 0.0448358878493309, -0.06652743369340897, 0.009478328749537468, -0.026535259559750557]\n"
     ]
    }
   ],
   "source": [
    "print(predictor.predict(data={\n",
    "  \"inputs\": \"Hola como estas\",\n",
    "})[0:5])"
   ]
  },
  {
   "cell_type": "code",
   "execution_count": 40,
   "id": "cd9dde56-94f2-444b-9cb6-6bcdb8c2c7be",
   "metadata": {
    "tags": []
   },
   "outputs": [],
   "source": [
    "import json\n",
    "import boto3\n",
    "session = boto3.Session()\n",
    "region = 'us-west-2'\n",
    "sm_runtime = session.client(\"sagemaker-runtime\", region_name=region)\n",
    "content_type = \"application/json\"\n",
    "\n",
    "def test(text):\n",
    "    # specify \"Inputs\"\n",
    "    data = {\n",
    "       \"inputs\": text #\"Sí, tengo algo de tiempos hoy.\"\n",
    "    }\n",
    "    response = sm_runtime.invoke_endpoint(\n",
    "        EndpointName = ENDPOINT_NAME,\n",
    "        ContentType = content_type,\n",
    "        Body=json.dumps(data)\n",
    "    )\n",
    "    print(response)\n",
    "    print(response[\"Body\"].read())\n",
    "    "
   ]
  },
  {
   "cell_type": "code",
   "execution_count": 41,
   "id": "4eb6b361-de9e-4109-a231-d630c82d03b0",
   "metadata": {
    "tags": []
   },
   "outputs": [
    {
     "name": "stdout",
     "output_type": "stream",
     "text": [
      "{'ResponseMetadata': {'RequestId': 'f0540f22-9a5e-4b54-814d-715296674498', 'HTTPStatusCode': 200, 'HTTPHeaders': {'x-amzn-requestid': 'f0540f22-9a5e-4b54-814d-715296674498', 'x-amzn-invoked-production-variant': 'AllTraffic', 'date': 'Tue, 05 Dec 2023 02:05:46 GMT', 'content-type': 'application/json', 'content-length': '8052', 'connection': 'keep-alive'}, 'RetryAttempts': 0}, 'ContentType': 'application/json', 'InvokedProductionVariant': 'AllTraffic', 'Body': <botocore.response.StreamingBody object at 0x7ff16d532e90>}\n",
      "b'[0.01638699509203434,0.0448358878493309,-0.06652743369340897,0.009478328749537468,-0.026535259559750557,-0.018551960587501526,0.07422944158315659,-0.10322673618793488,-0.017511803656816483,-0.07184222340583801,0.08230551332235336,0.0003614563902374357,-0.024639848619699478,0.03719811141490936,0.14361363649368286,-0.01519789919257164,0.08132601529359818,0.053825560957193375,0.03190746530890465,-0.020510395988821983,0.06528374552726746,-0.01873570866882801,-0.04305608570575714,0.02825242280960083,-0.016684992238879204,0.04817628115415573,0.05725833773612976,-0.011692473664879799,-0.005541874561458826,-0.05308521166443825,-0.02946973405778408,-0.00728602334856987,0.0037143202498555183,-0.05896201357245445,0.06244673207402229,-0.01602339930832386,0.0052279201336205006,-0.09166773408651352,-0.02590196393430233,-0.00010959379869746044,-0.08863338828086853,-0.03300929814577103,-0.004059886559844017,-0.002775622997432947,0.039667025208473206,-0.07007090747356415,-0.03389057144522667,0.008834779262542725,0.008275287225842476,-0.07003465294837952,-0.06590774655342102,-0.026482829824090004,0.012061132118105888,0.003955648746341467,-0.026234271004796028,-0.040628787130117416,0.05489490181207657,-0.10404067486524582,0.02614118531346321,0.04672165587544441,0.016663236543536186,-0.017776846885681152,-0.009898090735077858,0.08822022378444672,-0.04280804842710495,-0.09460566937923431,-0.01952396146953106,-0.00341975805349648,-0.13610681891441345,0.018251702189445496,0.0750952959060669,-0.06115259975194931,0.011969897896051407,0.000746873440220952,0.06417277455329895,0.03168213739991188,-0.014233330264687538,-0.030641281977295876,0.007025094702839851,0.05537518858909607,0.030042709782719612,0.00992022268474102,-0.02769179455935955,-0.040232691913843155,0.05512736737728119,-0.03630199655890465,-0.029643727466464043,0.06850199401378632,0.03813529387116432,-0.07593560963869095,-0.04370063915848732,0.020883116871118546,-0.016628336161375046,0.009181194938719273,0.08079060167074203,0.019490955397486687,-0.0008833532338030636,0.0011860885424539447,0.0050878338515758514,0.053638432174921036,-0.027996322140097618,-0.02373553439974785,-0.02856253646314144,0.038609374314546585,-0.009174993261694908,0.020856356248259544,0.11241064220666885,0.053200945258140564,0.12167884409427643,0.04118155688047409,-0.09722460061311722,-0.011732838116586208,-0.05389981344342232,0.013808977790176868,-0.022953281179070473,0.025567756965756416,0.09969715774059296,0.022276051342487335,-0.01427104789763689,-0.00328154768794775,0.026527782902121544,-0.055675286799669266,-0.04487564414739609,-0.07598783075809479,0.03862477093935013,-0.007071951869875193,-0.04711334407329559,7.083685533902634e-31,0.07222788780927658,-0.05907744914293289,0.012431553564965725,0.05275384709239006,0.01211686059832573,-0.016295675188302994,-0.011784099973738194,-0.08708781003952026,-0.045913442969322205,0.05996130406856537,-0.09190696477890015,0.037450727075338364,-0.0758298859000206,-0.04301147907972336,0.029989920556545258,0.02524747885763645,0.016948899254202843,0.04811621457338333,0.02730700559914112,0.04105676710605621,0.009909572079777718,-0.00230417656712234,0.02442815713584423,-0.010348391719162464,-0.008724675513803959,0.013743406161665916,-0.034346796572208405,-0.08772756159305573,-0.07522540539503098,0.05808085948228836,0.036013513803482056,-0.0595879890024662,0.05736875906586647,-0.05809590592980385,0.027927933260798454,-0.05831734091043472,-0.017690734937787056,0.003747938433662057,0.008417260833084583,0.028439177200198174,0.0012024911120533943,-0.016615381464362144,-0.02891942486166954,-0.05402984097599983,0.02528001181781292,0.006209955550730228,0.07020176947116852,0.015596924349665642,0.015435760840773582,0.029890505596995354,-0.08574239909648895,-0.007264860440045595,-0.13470391929149628,0.06570878624916077,0.025390999391674995,0.06645559519529343,-0.008769982494413853,0.04158743843436241,0.08056676387786865,0.02520885318517685,-0.023434536531567574,-0.008015857078135014,0.033060017973184586,-0.10010351240634918,0.027568673714995384,-0.040395934134721756,0.0572737455368042,0.08080518990755081,0.0431377999484539,0.01357576809823513,0.0235616322606802,-0.05700942873954773,-0.07052657753229141,0.04057784751057625,-0.008437015116214752,-0.020833663642406464,0.1483975648880005,0.00904312077909708,0.027202006429433823,-8.492804045090452e-05,-0.017477018758654594,-0.027247361838817596,0.07665687054395676,0.09045366942882538,0.0924941673874855,0.04228435084223747,0.009860998019576073,0.052883297204971313,-0.04591454565525055,0.04293384402990341,-0.009405813179910183,0.07197568565607071,0.0014129345072433352,-0.12606306374073029,-0.010769463144242764,-2.288033632318349e-33,0.0706019178032875,-0.028376642614603043,0.05018026754260063,-0.09944096207618713,-0.006921934895217419,-0.08810605108737946,-0.016321562230587006,0.006332811433821917,-0.0495191253721714,0.0005198047147132456,-0.01444301102310419,-0.0796721801161766,0.05602949112653732,-0.03025009110569954,-0.0647638738155365,0.060854651033878326,0.05406440794467926,-0.08266507834196091,-0.019372422248125076,0.08814733475446701,-0.06235167756676674,0.02839239500463009,0.02832600101828575,-0.015843015164136887,-0.018079912289977074,-0.009573757648468018,0.034029729664325714,0.03598053380846977,0.023015709593892097,0.0069828578270971775,0.0030560833401978016,-0.09910251200199127,-0.06697370111942291,0.007834766060113907,0.038708098232746124,-0.015047002583742142,0.0360599085688591,-0.03128409758210182,0.03854020684957504,0.020598653703927994,-0.06536280363798141,0.024303119629621506,0.053757525980472565,0.027474261820316315,0.03736523911356926,-0.05931844562292099,0.06423578411340714,-0.07929365336894989,-0.10839766263961792,-0.0045047118328511715,0.06554262340068817,-0.032734740525484085,-0.04347875714302063,0.033741388469934464,0.05106876790523529,-0.047727275639772415,-0.07564199715852737,-0.025809330865740776,-0.08013200759887695,0.013548193499445915,0.047820474952459335,0.10610634088516235,-0.006270802579820156,0.050614699721336365,0.05401911213994026,0.017292102798819542,-0.06479550898075104,-0.027361463755369186,-0.015081217512488365,0.009783253073692322,-0.09726960957050323,-0.09700687974691391,-0.14425483345985413,-0.024574091657996178,-0.03285292163491249,-0.022814404219388962,-0.07499321550130844,0.017069943249225616,0.08142252266407013,-0.04511095583438873,0.032526884227991104,-0.08867835998535156,-0.033622946590185165,-0.07793597877025604,0.06461536139249802,-0.016093235462903976,-0.04343769699335098,-0.03923462703824043,0.012173292227089405,0.03652241826057434,0.003365269862115383,0.012292170897126198,-0.0023875904735177755,0.040186844766139984,-0.010276522487401962,-2.2806153446096987e-33,-0.05838277190923691,0.0628398209810257,0.02064131572842598,0.044082023203372955,-0.014308186247944832,-0.010317908599972725,0.02579496055841446,-0.023908738046884537,0.08214693516492844,-0.03911566361784935,0.02759050577878952,0.030425675213336945,0.013830441050231457,-0.006715129595249891,-0.009751739911735058,0.031758371740579605,-0.018449144437909126,0.09259285032749176,0.06703031063079834,-0.05021745711565018,0.06350808590650558,-0.025295991450548172,-0.02153114788234234,-0.055551763623952866,0.0606919564306736,-0.009886376559734344,0.04764788970351219,0.07446514070034027,0.08310142159461975,-0.08668595552444458,-0.0644979178905487,0.05123009532690048,-0.10998518019914627,-0.03528708964586258,0.001577230403199792,-0.04416586458683014,-0.015271489508450031,-0.04445015266537666,-0.05378544703125954,-0.0621117427945137,-0.0070403520949184895,0.029903152957558632,-0.022016560658812523,-0.03228537365794182,-0.03409818559885025,0.09153071790933609,0.06432341784238815,-0.0069809406995773315,-0.029025929048657417,-0.05901595950126648,-0.032354436814785004,-0.020400814712047577,0.044675782322883606,0.0580717995762825,0.02544303610920906,0.05815600976347923,0.09372803568840027,0.02522454969584942,0.06939936429262161,0.10597413778305054,-0.004366907756775618,-0.017268355935811996,0.05303328484296799,0.037736229598522186]'\n"
     ]
    }
   ],
   "source": [
    "test(\"hola como estas\")"
   ]
  },
  {
   "cell_type": "code",
   "execution_count": 21,
   "id": "5d6de7a8-0b14-4294-83b5-8ccf97401277",
   "metadata": {
    "tags": []
   },
   "outputs": [
    {
     "ename": "NameError",
     "evalue": "name 'predictor' is not defined",
     "output_type": "error",
     "traceback": [
      "\u001b[0;31m---------------------------------------------------------------------------\u001b[0m",
      "\u001b[0;31mNameError\u001b[0m                                 Traceback (most recent call last)",
      "Cell \u001b[0;32mIn[21], line 2\u001b[0m\n\u001b[1;32m      1\u001b[0m \u001b[38;5;66;03m# delete endpoint\u001b[39;00m\n\u001b[0;32m----> 2\u001b[0m \u001b[43mpredictor\u001b[49m\u001b[38;5;241m.\u001b[39mdelete_endpoint()\n",
      "\u001b[0;31mNameError\u001b[0m: name 'predictor' is not defined"
     ]
    }
   ],
   "source": [
    "# delete endpoint\n",
    "predictor.delete_endpoint()"
   ]
  },
  {
   "cell_type": "code",
   "execution_count": 42,
   "id": "d25f32e8-4981-4379-9746-0658237fda26",
   "metadata": {
    "tags": []
   },
   "outputs": [],
   "source": [
    "def test_st(text):\n",
    "    model = SentenceTransformer('transformer')\n",
    "    return model.encode(text)"
   ]
  },
  {
   "cell_type": "code",
   "execution_count": 43,
   "id": "8068a44a-9e45-4a21-bf33-2a20f9f287d9",
   "metadata": {
    "tags": []
   },
   "outputs": [
    {
     "data": {
      "text/plain": [
       "array([ 1.63870137e-02,  4.48358841e-02, -6.65274486e-02,  9.47833713e-03,\n",
       "       -2.65352689e-02, -1.85519978e-02,  7.42293969e-02, -1.03226796e-01,\n",
       "       -1.75118279e-02, -7.18422532e-02,  8.23055282e-02,  3.61408864e-04,\n",
       "       -2.46398598e-02,  3.71981226e-02,  1.43613651e-01, -1.51979141e-02,\n",
       "        8.13260451e-02,  5.38255461e-02,  3.19074616e-02, -2.05103997e-02,\n",
       "        6.52837604e-02, -1.87356919e-02, -4.30561006e-02,  2.82524377e-02,\n",
       "       -1.66849475e-02,  4.81762625e-02,  5.72583489e-02, -1.16925035e-02,\n",
       "       -5.54189831e-03, -5.30852228e-02, -2.94697490e-02, -7.28598936e-03,\n",
       "        3.71430814e-03, -5.89620136e-02,  6.24467582e-02, -1.60234030e-02,\n",
       "        5.22793923e-03, -9.16677266e-02, -2.59019490e-02, -1.09608191e-04,\n",
       "       -8.86333957e-02, -3.30093093e-02, -4.05986188e-03, -2.77562323e-03,\n",
       "        3.96670178e-02, -7.00709298e-02, -3.38905528e-02,  8.83476436e-03,\n",
       "        8.27529281e-03, -7.00346455e-02, -6.59077838e-02, -2.64828186e-02,\n",
       "        1.20611368e-02,  3.95563105e-03, -2.62342766e-02, -4.06287611e-02,\n",
       "        5.48948981e-02, -1.04040705e-01,  2.61411648e-02,  4.67216894e-02,\n",
       "        1.66632310e-02, -1.77768525e-02, -9.89803858e-03,  8.82202238e-02,\n",
       "       -4.28080373e-02, -9.46057290e-02, -1.95239931e-02, -3.41976760e-03,\n",
       "       -1.36106819e-01,  1.82517003e-02,  7.50952959e-02, -6.11525998e-02,\n",
       "        1.19698718e-02,  7.46839971e-04,  6.41727969e-02,  3.16821188e-02,\n",
       "       -1.42333498e-02, -3.06412596e-02,  7.02512637e-03,  5.53751886e-02,\n",
       "        3.00427116e-02,  9.92024411e-03, -2.76917666e-02, -4.02326621e-02,\n",
       "        5.51273935e-02, -3.63019928e-02, -2.96437461e-02,  6.85019940e-02,\n",
       "        3.81352976e-02, -7.59356096e-02, -4.37006652e-02,  2.08831169e-02,\n",
       "       -1.66283138e-02,  9.18118563e-03,  8.07906315e-02,  1.94909517e-02,\n",
       "       -8.83394270e-04,  1.18610181e-03,  5.08786179e-03,  5.36384210e-02,\n",
       "       -2.79963594e-02, -2.37355344e-02, -2.85625663e-02,  3.86093743e-02,\n",
       "       -9.17497929e-03,  2.08563153e-02,  1.12410672e-01,  5.32009602e-02,\n",
       "        1.21678844e-01,  4.11815792e-02, -9.72245634e-02, -1.17328325e-02,\n",
       "       -5.38997985e-02,  1.38089750e-02, -2.29532328e-02,  2.55677514e-02,\n",
       "        9.96971875e-02,  2.22760420e-02, -1.42710358e-02, -3.28154396e-03,\n",
       "        2.65277512e-02, -5.56753166e-02, -4.48756404e-02, -7.59878606e-02,\n",
       "        3.86247896e-02, -7.07193697e-03, -4.71133813e-02,  7.08368365e-31,\n",
       "        7.22279400e-02, -5.90774752e-02,  1.24315750e-02,  5.27538545e-02,\n",
       "        1.21168736e-02, -1.62957069e-02, -1.17841037e-02, -8.70878249e-02,\n",
       "       -4.59134318e-02,  5.99613339e-02, -9.19069648e-02,  3.74507532e-02,\n",
       "       -7.58299157e-02, -4.30114791e-02,  2.99899168e-02,  2.52475031e-02,\n",
       "        1.69489142e-02,  4.81162779e-02,  2.73070075e-02,  4.10567671e-02,\n",
       "        9.90956742e-03, -2.30420008e-03,  2.44281702e-02, -1.03484001e-02,\n",
       "       -8.72464757e-03,  1.37434248e-02, -3.43467668e-02, -8.77275690e-02,\n",
       "       -7.52254575e-02,  5.80808558e-02,  3.60135399e-02, -5.95880263e-02,\n",
       "        5.73687777e-02, -5.80959283e-02,  2.79279742e-02, -5.83173111e-02,\n",
       "       -1.76907592e-02,  3.74795473e-03,  8.41723662e-03,  2.84392312e-02,\n",
       "        1.20250112e-03, -1.66153889e-02, -2.89194286e-02, -5.40298633e-02,\n",
       "        2.52800137e-02,  6.20998954e-03,  7.02017993e-02,  1.55969290e-02,\n",
       "        1.54357255e-02,  2.98905112e-02, -8.57423991e-02, -7.26489211e-03,\n",
       "       -1.34703904e-01,  6.57087713e-02,  2.53910124e-02,  6.64556175e-02,\n",
       "       -8.76995642e-03,  4.15874533e-02,  8.05667788e-02,  2.52088681e-02,\n",
       "       -2.34345682e-02, -8.01588781e-03,  3.30600254e-02, -1.00103542e-01,\n",
       "        2.75687017e-02, -4.03958969e-02,  5.72737940e-02,  8.08052048e-02,\n",
       "        4.31377962e-02,  1.35757625e-02,  2.35616602e-02, -5.70094660e-02,\n",
       "       -7.05265924e-02,  4.05778103e-02, -8.43700022e-03, -2.08336748e-02,\n",
       "        1.48397565e-01,  9.04308259e-03,  2.72020157e-02, -8.49375792e-05,\n",
       "       -1.74769778e-02, -2.72473805e-02,  7.66568631e-02,  9.04536918e-02,\n",
       "        9.24942046e-02,  4.22843285e-02,  9.86097846e-03,  5.28832860e-02,\n",
       "       -4.59145606e-02,  4.29338068e-02, -9.40587185e-03,  7.19757006e-02,\n",
       "        1.41292007e-03, -1.26063049e-01, -1.07694790e-02, -2.28803363e-33,\n",
       "        7.06019104e-02, -2.83766240e-02,  5.01802675e-02, -9.94409844e-02,\n",
       "       -6.92196982e-03, -8.81060511e-02, -1.63215734e-02,  6.33282959e-03,\n",
       "       -4.95191179e-02,  5.19812049e-04, -1.44430017e-02, -7.96721801e-02,\n",
       "        5.60294874e-02, -3.02500669e-02, -6.47639036e-02,  6.08546659e-02,\n",
       "        5.40644415e-02, -8.26650709e-02, -1.93724055e-02,  8.81473571e-02,\n",
       "       -6.23517036e-02,  2.83924229e-02,  2.83260178e-02, -1.58430003e-02,\n",
       "       -1.80798806e-02, -9.57374554e-03,  3.40297446e-02,  3.59805375e-02,\n",
       "        2.30157133e-02,  6.98285922e-03,  3.05609498e-03, -9.91025269e-02,\n",
       "       -6.69737309e-02,  7.83475582e-03,  3.87080908e-02, -1.50469970e-02,\n",
       "        3.60599123e-02, -3.12841125e-02,  3.85402404e-02,  2.05986686e-02,\n",
       "       -6.53628409e-02,  2.43031085e-02,  5.37575483e-02,  2.74742953e-02,\n",
       "        3.73652317e-02, -5.93184493e-02,  6.42357990e-02, -7.92936310e-02,\n",
       "       -1.08397692e-01, -4.50469041e-03,  6.55426309e-02, -3.27347703e-02,\n",
       "       -4.34787609e-02,  3.37414071e-02,  5.10687679e-02, -4.77272645e-02,\n",
       "       -7.56419897e-02, -2.58093383e-02, -8.01320449e-02,  1.35481870e-02,\n",
       "        4.78204712e-02,  1.06106333e-01, -6.27081236e-03,  5.06147631e-02,\n",
       "        5.40190823e-02,  1.72921009e-02, -6.47955090e-02, -2.73614768e-02,\n",
       "       -1.50812268e-02,  9.78326518e-03, -9.72696319e-02, -9.70069021e-02,\n",
       "       -1.44254819e-01, -2.45740712e-02, -3.28529291e-02, -2.28144545e-02,\n",
       "       -7.49932006e-02,  1.70699470e-02,  8.14225674e-02, -4.51109223e-02,\n",
       "        3.25268842e-02, -8.86783600e-02, -3.36229540e-02, -7.79360086e-02,\n",
       "        6.46153912e-02, -1.60932448e-02, -4.34376746e-02, -3.92346121e-02,\n",
       "        1.21733174e-02,  3.65224518e-02,  3.36527103e-03,  1.22921504e-02,\n",
       "       -2.38760794e-03,  4.01868671e-02, -1.02765616e-02, -2.28061553e-33,\n",
       "       -5.83827458e-02,  6.28398135e-02,  2.06413139e-02,  4.40820120e-02,\n",
       "       -1.43081844e-02, -1.03179142e-02,  2.57949438e-02, -2.39087120e-02,\n",
       "        8.21469873e-02, -3.91156524e-02,  2.75905114e-02,  3.04256957e-02,\n",
       "        1.38304066e-02, -6.71515241e-03, -9.75173060e-03,  3.17583643e-02,\n",
       "       -1.84491239e-02,  9.25928280e-02,  6.70303181e-02, -5.02174683e-02,\n",
       "        6.35081157e-02, -2.52959840e-02, -2.15311572e-02, -5.55517524e-02,\n",
       "        6.06919490e-02, -9.88639053e-03,  4.76478823e-02,  7.44651332e-02,\n",
       "        8.31014067e-02, -8.66859332e-02, -6.44979477e-02,  5.12301177e-02,\n",
       "       -1.09985188e-01, -3.52871083e-02,  1.57717417e-03, -4.41658869e-02,\n",
       "       -1.52715100e-02, -4.44501899e-02, -5.37854135e-02, -6.21117763e-02,\n",
       "       -7.04034278e-03,  2.99031511e-02, -2.20165290e-02, -3.22853960e-02,\n",
       "       -3.40981707e-02,  9.15307403e-02,  6.43234253e-02, -6.98095234e-03,\n",
       "       -2.90259309e-02, -5.90159670e-02, -3.23544592e-02, -2.04008128e-02,\n",
       "        4.46757786e-02,  5.80718108e-02,  2.54430529e-02,  5.81560284e-02,\n",
       "        9.37280804e-02,  2.52245441e-02,  6.93993792e-02,  1.05974138e-01,\n",
       "       -4.36691241e-03, -1.72683578e-02,  5.30332774e-02,  3.77362445e-02],\n",
       "      dtype=float32)"
      ]
     },
     "execution_count": 43,
     "metadata": {},
     "output_type": "execute_result"
    }
   ],
   "source": [
    "test_st('hola como estas')"
   ]
  },
  {
   "cell_type": "code",
   "execution_count": null,
   "id": "30407d52-965f-4061-955b-f6ac446c54ac",
   "metadata": {},
   "outputs": [],
   "source": []
  }
 ],
 "metadata": {
  "kernelspec": {
   "display_name": "conda_pytorch_p310",
   "language": "python",
   "name": "conda_pytorch_p310"
  },
  "language_info": {
   "codemirror_mode": {
    "name": "ipython",
    "version": 3
   },
   "file_extension": ".py",
   "mimetype": "text/x-python",
   "name": "python",
   "nbconvert_exporter": "python",
   "pygments_lexer": "ipython3",
   "version": "3.10.13"
  }
 },
 "nbformat": 4,
 "nbformat_minor": 5
}
